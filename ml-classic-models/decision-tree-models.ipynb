{
 "cells": [
  {
   "cell_type": "code",
   "execution_count": null,
   "metadata": {},
   "outputs": [],
   "source": [
    "import numpy as np\n",
    "import time\n",
    "import matplotlib.pyplot as plt\n",
    "from sklearn.datasets import make_classification\n",
    "from sklearn.ensemble import RandomForestClassifier\n",
    "from xgboost import XGBClassifier\n",
    "from sklearn.tree import DecisionTreeClassifier\n",
    "from sklearn.metrics import accuracy_score, classification_report\n",
    "from matplotlib.colors import ListedColormap"
   ]
  },
  {
   "cell_type": "markdown",
   "metadata": {},
   "source": [
    "# Decision thresholds"
   ]
  },
  {
   "cell_type": "code",
   "execution_count": null,
   "metadata": {},
   "outputs": [],
   "source": [
    "# Create synthetic dataset (2D for visualization)\n",
    "X, y = make_classification(\n",
    "    n_samples=300, n_features=2, n_redundant=0, n_informative=2,\n",
    "    n_clusters_per_class=1, class_sep=0.5, random_state=42\n",
    ")\n",
    "\n",
    "# Train classifiers\n",
    "clf_gini = DecisionTreeClassifier(criterion='gini', max_depth=3, random_state=42)\n",
    "clf_entropy = DecisionTreeClassifier(criterion='entropy', max_depth=3, random_state=42)\n",
    "\n",
    "clf_gini.fit(X, y)\n",
    "clf_entropy.fit(X, y)\n",
    "\n",
    "# Define function to plot decision boundary\n",
    "def plot_decision_boundary(clf, X, y, title):\n",
    "    h = 0.01\n",
    "    x_min, x_max = X[:, 0].min() - 1, X[:, 0].max() + 1\n",
    "    y_min, y_max = X[:, 1].min() - 1, X[:, 1].max() + 1\n",
    "    xx, yy = np.meshgrid(np.arange(x_min, x_max, h),\n",
    "                         np.arange(y_min, y_max, h))\n",
    "    Z = clf.predict(np.c_[xx.ravel(), yy.ravel()])\n",
    "    Z = Z.reshape(xx.shape)\n",
    "\n",
    "    plt.figure(figsize=(6, 4))\n",
    "    plt.contourf(xx, yy, Z, alpha=0.3, cmap='coolwarm')\n",
    "    plt.scatter(X[:, 0], X[:, 1], c=y, cmap='coolwarm', edgecolors='k')\n",
    "    plt.title(title)\n",
    "    plt.xlabel('Feature 1')\n",
    "    plt.ylabel('Feature 2')\n",
    "    plt.grid(True)\n",
    "    plt.tight_layout()\n",
    "    plt.show()\n",
    "\n",
    "# Plot both trees\n",
    "plot_decision_boundary(clf_gini, X, y, \"Decision Tree with Gini\")\n",
    "plot_decision_boundary(clf_entropy, X, y, \"Decision Tree with Entropy\")\n",
    "\n",
    "# Compare performance\n",
    "print(f\"Accuracy (Gini): {accuracy_score(y, clf_gini.predict(X)):.2f}\")\n",
    "print(f\"Accuracy (Entropy): {accuracy_score(y, clf_entropy.predict(X)):.2f}\")"
   ]
  },
  {
   "cell_type": "code",
   "execution_count": null,
   "metadata": {},
   "outputs": [],
   "source": [
    "print(classification_report(clf_gini.predict(X), y))"
   ]
  },
  {
   "cell_type": "code",
   "execution_count": null,
   "metadata": {},
   "outputs": [],
   "source": [
    "print(classification_report(clf_entropy.predict(X), y))"
   ]
  },
  {
   "cell_type": "markdown",
   "metadata": {},
   "source": [
    "# Random Forest and Gradient Boost Trees"
   ]
  },
  {
   "cell_type": "code",
   "execution_count": null,
   "metadata": {},
   "outputs": [],
   "source": [
    "# Create a simple 2D dataset\n",
    "X, y = make_classification(\n",
    "    n_samples=500, n_features=2, n_informative=2, n_redundant=0,\n",
    "    n_clusters_per_class=2, class_sep=1, random_state=21\n",
    ")\n",
    "\n",
    "# Train classifiers\n",
    "rf = RandomForestClassifier(n_estimators=100, max_depth=3, random_state=21)\n",
    "xgb = XGBClassifier(n_estimators=100, max_depth=3, learning_rate=0.1, \n",
    "                    use_label_encoder=False, eval_metric='logloss', random_state=21)\n",
    "\n",
    "start_time_rf = time.perf_counter()\n",
    "rf.fit(X, y)\n",
    "print(f\"Random Forest training time: {time.perf_counter() - start_time_rf:.4f} seconds\")\n",
    "\n",
    "start_time_rf = time.perf_counter()\n",
    "xgb.fit(X, y)\n",
    "print(f\"XGBoost training time: {time.perf_counter() - start_time_rf:.4f} seconds\")\n",
    "\n",
    "# Predictions on training data\n",
    "y_pred_rf = rf.predict(X)\n",
    "y_pred_xgb = xgb.predict(X)\n",
    "\n",
    "# Classification Reports\n",
    "print(\"=== Random Forest Classification Report ===\")\n",
    "print(classification_report(y, y_pred_rf))\n",
    "\n",
    "print(\"=== XGBoost Classification Report ===\")\n",
    "print(classification_report(y, y_pred_xgb))\n",
    "\n",
    "# Mesh grid for decision boundary plot\n",
    "h = 0.1  # grid step\n",
    "x_min, x_max = X[:, 0].min() - 1, X[:, 0].max() + 1\n",
    "y_min, y_max = X[:, 1].min() - 1, X[:, 1].max() + 1\n",
    "xx, yy = np.meshgrid(np.arange(x_min, x_max, h),\n",
    "                     np.arange(y_min, y_max, h))\n",
    "grid = np.c_[xx.ravel(), yy.ravel()]\n",
    "\n",
    "# Predictions for decision boundary\n",
    "Z_rf = rf.predict(grid).reshape(xx.shape)\n",
    "Z_xgb = xgb.predict(grid).reshape(xx.shape)\n",
    "\n",
    "# Plot decision boundaries\n",
    "cmap_light = ListedColormap(['#FFAAAA', '#AAAAFF'])\n",
    "cmap_bold = ListedColormap(['#FF0000', '#0000FF'])\n",
    "\n",
    "fig, axes = plt.subplots(1, 2, figsize=(10, 4))\n",
    "\n",
    "axes[0].contourf(xx, yy, Z_rf, cmap=cmap_light, alpha=0.6)\n",
    "axes[0].scatter(X[:, 0], X[:, 1], c=y, cmap=cmap_bold, s=15)\n",
    "axes[0].set_title(\"Random Forest\")\n",
    "\n",
    "axes[1].contourf(xx, yy, Z_xgb, cmap=cmap_light, alpha=0.6)\n",
    "axes[1].scatter(X[:, 0], X[:, 1], c=y, cmap=cmap_bold, s=15)\n",
    "axes[1].set_title(\"XGBoost\")\n",
    "\n",
    "plt.show()\n"
   ]
  },
  {
   "cell_type": "code",
   "execution_count": null,
   "metadata": {},
   "outputs": [],
   "source": []
  }
 ],
 "metadata": {
  "kernelspec": {
   "display_name": ".venv",
   "language": "python",
   "name": "python3"
  },
  "language_info": {
   "codemirror_mode": {
    "name": "ipython",
    "version": 3
   },
   "file_extension": ".py",
   "mimetype": "text/x-python",
   "name": "python",
   "nbconvert_exporter": "python",
   "pygments_lexer": "ipython3",
   "version": "3.12.7"
  }
 },
 "nbformat": 4,
 "nbformat_minor": 2
}
