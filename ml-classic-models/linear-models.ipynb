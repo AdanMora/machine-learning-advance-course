{
 "cells": [
  {
   "cell_type": "code",
   "execution_count": null,
   "metadata": {},
   "outputs": [],
   "source": [
    "import numpy as np\n",
    "import random\n",
    "import time\n",
    "import sys\n",
    "import matplotlib.pyplot as plt"
   ]
  },
  {
   "cell_type": "markdown",
   "metadata": {},
   "source": [
    "# Numpy vs Python vanilla"
   ]
  },
  {
   "cell_type": "code",
   "execution_count": null,
   "metadata": {},
   "outputs": [],
   "source": [
    "X = [random.random() for _ in range(1000000)]\n",
    "W = [random.random() for _ in range(1000000)]\n",
    "\n",
    "# Simulate a simple operation on large lists\n",
    "start_time = time.perf_counter()\n",
    "result = 0\n",
    "for i in range(1000000):\n",
    "    result += X[i] * W[i]\n",
    "end_time = time.perf_counter() - start_time\n",
    "print(f\"Time taken for list operation: {end_time:.4f} seconds\")\n",
    "print(f\"Result: {result}\")"
   ]
  },
  {
   "cell_type": "code",
   "execution_count": null,
   "metadata": {},
   "outputs": [],
   "source": [
    "X_np = np.array(X)\n",
    "W_np = np.array(W)\n",
    "\n",
    "# Simulate a simple operation on large lists\n",
    "start_time = time.perf_counter()\n",
    "result_np = np.dot(X_np, W_np)\n",
    "end_time_np = time.perf_counter() - start_time\n",
    "print(f\"Time taken for numpy operation: {end_time_np:.4f} seconds\")\n",
    "print(f\"Result: {result_np}\")\n",
    "\n",
    "# Compare memory usage\n",
    "print(f\"Memory usage of list: {sys.getsizeof(X) + sys.getsizeof(W)} bytes\")\n",
    "print(f\"Memory usage of numpy array: {X_np.nbytes + W_np.nbytes} bytes\")\n",
    "\n",
    "# Compare performance\n",
    "print(f\"Numpy is {end_time / end_time_np:.2f} times faster than list operations.\")"
   ]
  },
  {
   "cell_type": "markdown",
   "metadata": {},
   "source": [
    "# Logistic Regression from scratch vs Sklearn implementation"
   ]
  },
  {
   "cell_type": "markdown",
   "metadata": {},
   "source": [
    "### Data"
   ]
  },
  {
   "cell_type": "code",
   "execution_count": null,
   "metadata": {},
   "outputs": [],
   "source": [
    "# Data\n",
    "np.random.seed(0)\n",
    "N = 100  # samples per class\n",
    "D = 2    # features\n",
    "\n",
    "# Class 0\n",
    "X0 = np.random.randn(N, D)\n",
    "y0 = np.zeros((N, 1))\n",
    "\n",
    "# Class 1\n",
    "X1 = np.random.randn(N, D) + np.array([3, 3])\n",
    "y1 = np.ones((N, 1))\n",
    "\n",
    "# Combine\n",
    "X = np.vstack((X0, X1))   # shape: (200, 2)\n",
    "y = np.vstack((y0, y1))   # shape: (200, 1)"
   ]
  },
  {
   "cell_type": "markdown",
   "metadata": {},
   "source": [
    "### Scratch"
   ]
  },
  {
   "cell_type": "code",
   "execution_count": null,
   "metadata": {},
   "outputs": [],
   "source": [
    "\n",
    "def sigmoid(z):\n",
    "    return 1 / (1 + np.exp(-z))\n",
    "\n",
    "# Loss function: Binary cross-entropy\n",
    "def compute_loss(y_true, y_pred):\n",
    "    epsilon = 1e-8  # to avoid log(0)\n",
    "    return -np.mean(y_true * np.log(y_pred + epsilon) + (1 - y_true) * np.log(1 - y_pred + epsilon))\n",
    "\n",
    "# Plot decision boundary\n",
    "def plot_decision_boundary(X, y, w, b):\n",
    "    x_min, x_max = X[:, 0].min() - 1, X[:, 0].max() + 1\n",
    "    y_min, y_max = X[:, 1].min() - 1, X[:, 1].max() + 1\n",
    "    xx, yy = np.meshgrid(np.linspace(x_min, x_max, 100),\n",
    "                         np.linspace(y_min, y_max, 100))\n",
    "    grid = np.c_[xx.ravel(), yy.ravel()]\n",
    "    probs = sigmoid(grid @ w + b).reshape(xx.shape)\n",
    "\n",
    "    plt.contourf(xx, yy, probs, levels=[0, 0.5, 1], alpha=0.3, colors=['blue', 'red'])\n",
    "    plt.scatter(X[:, 0], X[:, 1], c=y.ravel(), cmap='bwr', edgecolors='k')\n",
    "    plt.title(\"Logistic Regression Decision Boundary\")\n",
    "    plt.xlabel(\"Feature 1\")\n",
    "    plt.ylabel(\"Feature 2\")\n",
    "    plt.show()\n",
    "\n",
    "# Training function\n",
    "def train_logistic_regression(X, y, lr=0.1, epochs=100):\n",
    "    n_samples, n_features = X.shape\n",
    "    # Initialize weights and bias\n",
    "    w = np.zeros((n_features, 1))\n",
    "    b = 0\n",
    "\n",
    "    loss_history = []\n",
    "\n",
    "    for epoch in range(epochs):\n",
    "        # Linear combination\n",
    "        z = np.dot(X, w) + b\n",
    "\n",
    "        # Sigmoid activation\n",
    "        y_pred = sigmoid(z)\n",
    "\n",
    "        # Compute loss\n",
    "        loss = compute_loss(y, y_pred)\n",
    "        loss_history.append(loss)\n",
    "\n",
    "        # Gradients\n",
    "        dw = (1 / n_samples) * np.dot(X.T, (y_pred - y))\n",
    "        db = (1 / n_samples) * np.sum(y_pred - y)\n",
    "\n",
    "        # Update weights\n",
    "        w -= lr * dw\n",
    "        b -= lr * db\n",
    "\n",
    "        # Print every 100 epochs\n",
    "        if epoch % 10 == 0:\n",
    "            print(f\"Epoch {epoch}, Loss: {loss:.4f}\")\n",
    "            plot_decision_boundary(X, y, w, b)\n",
    "\n",
    "    return w, b, loss_history\n",
    "\n",
    "# Train the model\n",
    "w, b, loss_history = train_logistic_regression(X, y)\n",
    "\n",
    "# 6. Prediction function\n",
    "def predict(X, w, b):\n",
    "    proba = sigmoid(np.dot(X, w) + b)\n",
    "    return (proba >= 0.5).astype(int)\n",
    "\n",
    "plot_decision_boundary(X, y, w, b)\n",
    "\n",
    "# 8. Plot loss\n",
    "plt.plot(loss_history)\n",
    "plt.title(\"Loss over epochs\")\n",
    "plt.xlabel(\"Epoch\")\n",
    "plt.ylabel(\"Cross-entropy loss\")\n",
    "plt.show()\n"
   ]
  },
  {
   "cell_type": "markdown",
   "metadata": {},
   "source": [
    "### Sklearn"
   ]
  },
  {
   "cell_type": "code",
   "execution_count": null,
   "metadata": {},
   "outputs": [],
   "source": [
    "# https://scikit-learn.org/stable/modules/generated/sklearn.linear_model.LogisticRegression.html\n",
    "from sklearn.linear_model import LogisticRegression\n",
    "\n",
    "# Train using sklearn's LogisticRegression\n",
    "model = LogisticRegression(max_iter=100)\n",
    "model.fit(X, y.ravel())  # Flatten y to 1D array\n",
    "\n",
    "\n",
    "# Plot decision boundary\n",
    "def plot_decision_boundary(X, y, w, b):\n",
    "    x_min, x_max = X[:, 0].min() - 1, X[:, 0].max() + 1\n",
    "    y_min, y_max = X[:, 1].min() - 1, X[:, 1].max() + 1\n",
    "    xx, yy = np.meshgrid(np.linspace(x_min, x_max, 100),\n",
    "                         np.linspace(y_min, y_max, 100))\n",
    "    grid = np.c_[xx.ravel(), yy.ravel()]\n",
    "    probs = sigmoid(grid @ w + b).reshape(xx.shape)\n",
    "\n",
    "    plt.contourf(xx, yy, probs, levels=[0, 0.5, 1], alpha=0.3, colors=['blue', 'red'])\n",
    "    plt.scatter(X[:, 0], X[:, 1], c=y.ravel(), cmap='bwr', edgecolors='k')\n",
    "    plt.title(\"Logistic Regression Decision Boundary\")\n",
    "    plt.xlabel(\"Feature 1\")\n",
    "    plt.ylabel(\"Feature 2\")\n",
    "    plt.show()\n",
    "\n",
    "predicted_w = model.coef_.T\n",
    "predicted_b = model.intercept_[0]\n",
    "\n",
    "# Plot decision boundary using sklearn's model\n",
    "plot_decision_boundary(X, y, predicted_w, predicted_b)\n"
   ]
  },
  {
   "cell_type": "code",
   "execution_count": null,
   "metadata": {},
   "outputs": [],
   "source": []
  },
  {
   "cell_type": "code",
   "execution_count": null,
   "metadata": {},
   "outputs": [],
   "source": [
    "print(classification_report(clf_gini.predict(X), y))\n"
   ]
  },
  {
   "cell_type": "code",
   "execution_count": null,
   "metadata": {},
   "outputs": [],
   "source": [
    "print(classification_report(clf_entropy.predict(X), y))"
   ]
  },
  {
   "cell_type": "code",
   "execution_count": null,
   "metadata": {},
   "outputs": [],
   "source": []
  }
 ],
 "metadata": {
  "kernelspec": {
   "display_name": ".venv",
   "language": "python",
   "name": "python3"
  },
  "language_info": {
   "codemirror_mode": {
    "name": "ipython",
    "version": 3
   },
   "file_extension": ".py",
   "mimetype": "text/x-python",
   "name": "python",
   "nbconvert_exporter": "python",
   "pygments_lexer": "ipython3",
   "version": "3.12.7"
  }
 },
 "nbformat": 4,
 "nbformat_minor": 2
}
