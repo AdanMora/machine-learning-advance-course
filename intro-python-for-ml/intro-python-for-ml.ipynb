{
 "cells": [
  {
   "cell_type": "markdown",
   "metadata": {},
   "source": [
    "# Introduccion Python"
   ]
  },
  {
   "cell_type": "code",
   "execution_count": null,
   "metadata": {},
   "outputs": [],
   "source": [
    "# Tipos numéricos\n",
    "entero = \"10\"                 # int\n",
    "decimal = 3.14              # float\n",
    "\n",
    "# Texto\n",
    "texto = \"Machine Learning\"  # str\n",
    "\n",
    "# Booleano\n",
    "es_mayor = True             # bool\n",
    "es_mayor = False             # bool\n",
    "\n",
    "# Ver tipo de dato\n",
    "print(entero, type(entero))   # <class 'int'>\n",
    "print(decimal, type(decimal))  # <class 'float'>\n",
    "\n",
    "# Listas\n",
    "\n",
    "edades = [22, 30, 25, 40]\n",
    "# edades = [22, \"30\", 25, 40]\n",
    "print(edades)            # Salida: [22, '30', 25, 40]\n",
    "print(edades[1])         # Acceso: 30\n",
    "edades.append(35)        # Agregar\n",
    "print(edades)            # Salida: [22, 30, 25, 40, 35]\n",
    "print(len(edades))  \n",
    "\n",
    "# Diccionarios Mapas Hash maps\n",
    "\n",
    "# { \"key\": value}\n",
    "\n",
    "# JSON\n",
    "\n",
    "persona = {\"nombre\": \"Ana\", \"edad\": 28, \"activo\": True}\n",
    "persona_2 = {\n",
    "    \"nombre\": \"Ana\",\n",
    "    \"direcciones\": [\n",
    "        {\"ciudad\": \"Madrid\", \"pais\": \"España\"},\n",
    "        {\"ciudad\": \"Barcelona\", \"pais\": \"España\"}\n",
    "    ]\n",
    "}\n",
    "\n",
    "print(persona[\"nombre\"])     # Acceso: Ana\n",
    "persona[\"edad\"] = 29         # Modificación\n",
    "print(persona)\n",
    "\n",
    "# Tuplas\n",
    "\n",
    "coordenadas = (10.0, 20.5)\n",
    "print(coordenadas[0])       # Acceso: 10.0\n",
    "\n",
    "coordenadas[0] = 12.0  # Error: TypeError, las tuplas son inmutables\n",
    "# Inmutables: no puedes hacer coordenadas[0] = 12.0\n",
    "\n",
    "# Sets \n",
    "\n",
    "valores = {1, 2, 3, 2, 3}\n",
    "print(valores)              # Salida: {1, 2, 3} (sin duplicados)\n",
    "valores.add(5)"
   ]
  },
  {
   "cell_type": "code",
   "execution_count": null,
   "metadata": {},
   "outputs": [],
   "source": [
    "persona_2[\"direcciones\"]"
   ]
  },
  {
   "cell_type": "code",
   "execution_count": null,
   "metadata": {},
   "outputs": [],
   "source": [
    "list(range(5))"
   ]
  },
  {
   "cell_type": "code",
   "execution_count": null,
   "metadata": {},
   "outputs": [],
   "source": [
    "# Cuadrado de números del 0 al 4\n",
    "cuadrados = [x**2 for x in range(5)]\n",
    "print(type(cuadrados))  # <class 'list'>\n",
    "print(cuadrados)  # [0, 1, 4, 9, 16]\n",
    "\n",
    "pares = [x for x in range(10) if x % 2 == 0]\n",
    "print(pares)  # [0, 2, 4, 6, 8]\n",
    "\n",
    "columnas = [\"edad\", \"ingreso\", \"etiqueta\", \"ingreso_extra\"]\n",
    "# Obtener solo columnas numéricas\n",
    "num_cols = [col for col in columnas if \"ingreso\" in col]\n",
    "print(num_cols)  # ['ingreso', 'ingreso_extra']"
   ]
  },
  {
   "cell_type": "code",
   "execution_count": null,
   "metadata": {},
   "outputs": [],
   "source": [
    "# Crear una lista de personas\n",
    "personas = [\n",
    "    {\"nombre\": \"Ana\", \"edad\": 17},\n",
    "    {\"nombre\": \"Luis\", \"edad\": 25},\n",
    "    {\"nombre\": \"Carla\", \"edad\": 19}\n",
    "]\n",
    "\n",
    "# Obtener los nombres de los mayores de edad\n",
    "mayores = [p[\"nombre\"] for p in personas if p[\"edad\"] >= 18]\n",
    "print(\"Mayores de edad:\", mayores)\n"
   ]
  },
  {
   "cell_type": "markdown",
   "metadata": {},
   "source": [
    "# Introducción a Numpy y Pandas \n",
    "\n",
    "## Numpy: \n",
    "- Manejo de arreglos o matrices multidimensionales o Tensores.\n",
    "- El Tensor es el tipo de dato nativo de esta librería.\n",
    "- Perfecto manejo de operaciones de álgebra lineal.\n",
    "- Trabaja muy eficientemente haciendo cálculos sin necesidad de for loops.\n",
    "-  Muy bueno indexando y agrupando data para generar nueva data enriquecida."
   ]
  },
  {
   "cell_type": "code",
   "execution_count": 1,
   "metadata": {},
   "outputs": [],
   "source": [
    "import numpy as np"
   ]
  },
  {
   "cell_type": "code",
   "execution_count": 2,
   "metadata": {},
   "outputs": [
    {
     "data": {
      "text/plain": [
       "(4,)"
      ]
     },
     "execution_count": 2,
     "metadata": {},
     "output_type": "execute_result"
    }
   ],
   "source": [
    "# Crear un array\n",
    "a = np.array([1, 2, 3, 4])\n",
    "a.shape"
   ]
  },
  {
   "cell_type": "code",
   "execution_count": 7,
   "metadata": {},
   "outputs": [
    {
     "name": "stdout",
     "output_type": "stream",
     "text": [
      "Suma: [3 4 5 6]\n",
      "Multiplicación: [ 3  6  9 12]\n",
      "Forma: (4,)\n",
      "Tipo: int64\n"
     ]
    }
   ],
   "source": [
    "# Crear un array\n",
    "a = np.array([1, 2, 3, 4])\n",
    "\n",
    "# Operaciones vectorizadas\n",
    "print(\"Suma:\", a + 2)\n",
    "print(\"Multiplicación:\", a * 3)\n",
    "\n",
    "# Propiedades\n",
    "print(\"Forma:\", a.shape)\n",
    "print(\"Tipo:\", a.dtype)"
   ]
  },
  {
   "cell_type": "code",
   "execution_count": 5,
   "metadata": {},
   "outputs": [
    {
     "data": {
      "text/plain": [
       "array([[[0., 0., 0.],\n",
       "        [0., 0., 0.],\n",
       "        [0., 0., 0.]],\n",
       "\n",
       "       [[0., 0., 0.],\n",
       "        [0., 0., 0.],\n",
       "        [0., 0., 0.]],\n",
       "\n",
       "       [[0., 0., 0.],\n",
       "        [0., 0., 0.],\n",
       "        [0., 0., 0.]]])"
      ]
     },
     "execution_count": 5,
     "metadata": {},
     "output_type": "execute_result"
    }
   ],
   "source": [
    "np.zeros((3, 3, 3))"
   ]
  },
  {
   "cell_type": "code",
   "execution_count": 6,
   "metadata": {},
   "outputs": [
    {
     "data": {
      "text/plain": [
       "(3, 3, 3)"
      ]
     },
     "execution_count": 6,
     "metadata": {},
     "output_type": "execute_result"
    }
   ],
   "source": [
    "np.zeros((3, 3, 3)).shape"
   ]
  },
  {
   "cell_type": "code",
   "execution_count": 8,
   "metadata": {},
   "outputs": [
    {
     "data": {
      "text/plain": [
       "array([[1., 1.],\n",
       "       [1., 1.]])"
      ]
     },
     "execution_count": 8,
     "metadata": {},
     "output_type": "execute_result"
    }
   ],
   "source": [
    "np.ones((2, 2))"
   ]
  },
  {
   "cell_type": "code",
   "execution_count": 9,
   "metadata": {},
   "outputs": [
    {
     "data": {
      "text/plain": [
       "array([[1., 0., 0.],\n",
       "       [0., 1., 0.],\n",
       "       [0., 0., 1.]])"
      ]
     },
     "execution_count": 9,
     "metadata": {},
     "output_type": "execute_result"
    }
   ],
   "source": [
    "np.eye(3)"
   ]
  },
  {
   "cell_type": "code",
   "execution_count": 10,
   "metadata": {},
   "outputs": [
    {
     "data": {
      "text/plain": [
       "array([ 0. ,  2.5,  5. ,  7.5, 10. ])"
      ]
     },
     "execution_count": 10,
     "metadata": {},
     "output_type": "execute_result"
    }
   ],
   "source": [
    "np.linspace(0, 10, 5)\n"
   ]
  },
  {
   "cell_type": "code",
   "execution_count": 23,
   "metadata": {},
   "outputs": [
    {
     "data": {
      "text/plain": [
       "array([[[1, 3],\n",
       "        [2, 2],\n",
       "        [2, 3]],\n",
       "\n",
       "       [[3, 3],\n",
       "        [1, 1],\n",
       "        [2, 2]],\n",
       "\n",
       "       [[1, 2],\n",
       "        [1, 3],\n",
       "        [2, 3]],\n",
       "\n",
       "       [[2, 4],\n",
       "        [4, 3],\n",
       "        [3, 3]],\n",
       "\n",
       "       [[2, 1],\n",
       "        [2, 1],\n",
       "        [2, 2]]])"
      ]
     },
     "execution_count": 23,
     "metadata": {},
     "output_type": "execute_result"
    }
   ],
   "source": [
    "n = np.random.randint(1, 5, (5, 3, 2))\n",
    "n"
   ]
  },
  {
   "cell_type": "code",
   "execution_count": 14,
   "metadata": {},
   "outputs": [
    {
     "data": {
      "text/plain": [
       "array([1.        , 3.        , 2.        , 2.66666667, 2.66666667])"
      ]
     },
     "execution_count": 14,
     "metadata": {},
     "output_type": "execute_result"
    }
   ],
   "source": [
    "n.mean(axis=1)"
   ]
  },
  {
   "cell_type": "code",
   "execution_count": 17,
   "metadata": {},
   "outputs": [
    {
     "ename": "AxisError",
     "evalue": "axis 2 is out of bounds for array of dimension 2",
     "output_type": "error",
     "traceback": [
      "\u001b[31m---------------------------------------------------------------------------\u001b[39m",
      "\u001b[31mAxisError\u001b[39m                                 Traceback (most recent call last)",
      "\u001b[36mCell\u001b[39m\u001b[36m \u001b[39m\u001b[32mIn[17]\u001b[39m\u001b[32m, line 1\u001b[39m\n\u001b[32m----> \u001b[39m\u001b[32m1\u001b[39m \u001b[43mn\u001b[49m\u001b[43m.\u001b[49m\u001b[43msum\u001b[49m\u001b[43m(\u001b[49m\u001b[43maxis\u001b[49m\u001b[43m=\u001b[49m\u001b[32;43m2\u001b[39;49m\u001b[43m)\u001b[49m\n",
      "\u001b[36mFile \u001b[39m\u001b[32m~/Desktop/code/university/machine-learning-advance-course/.venv/lib/python3.12/site-packages/numpy/_core/_methods.py:51\u001b[39m, in \u001b[36m_sum\u001b[39m\u001b[34m(a, axis, dtype, out, keepdims, initial, where)\u001b[39m\n\u001b[32m     49\u001b[39m \u001b[38;5;28;01mdef\u001b[39;00m\u001b[38;5;250m \u001b[39m\u001b[34m_sum\u001b[39m(a, axis=\u001b[38;5;28;01mNone\u001b[39;00m, dtype=\u001b[38;5;28;01mNone\u001b[39;00m, out=\u001b[38;5;28;01mNone\u001b[39;00m, keepdims=\u001b[38;5;28;01mFalse\u001b[39;00m,\n\u001b[32m     50\u001b[39m          initial=_NoValue, where=\u001b[38;5;28;01mTrue\u001b[39;00m):\n\u001b[32m---> \u001b[39m\u001b[32m51\u001b[39m     \u001b[38;5;28;01mreturn\u001b[39;00m \u001b[43mumr_sum\u001b[49m\u001b[43m(\u001b[49m\u001b[43ma\u001b[49m\u001b[43m,\u001b[49m\u001b[43m \u001b[49m\u001b[43maxis\u001b[49m\u001b[43m,\u001b[49m\u001b[43m \u001b[49m\u001b[43mdtype\u001b[49m\u001b[43m,\u001b[49m\u001b[43m \u001b[49m\u001b[43mout\u001b[49m\u001b[43m,\u001b[49m\u001b[43m \u001b[49m\u001b[43mkeepdims\u001b[49m\u001b[43m,\u001b[49m\u001b[43m \u001b[49m\u001b[43minitial\u001b[49m\u001b[43m,\u001b[49m\u001b[43m \u001b[49m\u001b[43mwhere\u001b[49m\u001b[43m)\u001b[49m\n",
      "\u001b[31mAxisError\u001b[39m: axis 2 is out of bounds for array of dimension 2"
     ]
    }
   ],
   "source": [
    "n.sum(axis=2)"
   ]
  },
  {
   "cell_type": "code",
   "execution_count": 18,
   "metadata": {},
   "outputs": [
    {
     "name": "stdout",
     "output_type": "stream",
     "text": [
      "Elementos mayores que 3:\n",
      "[[1 1 1]\n",
      " [4 1 4]\n",
      " [3 1 2]\n",
      " [1 4 3]\n",
      " [1 4 3]]\n"
     ]
    },
    {
     "data": {
      "text/plain": [
       "array([[False, False, False],\n",
       "       [ True, False,  True],\n",
       "       [False, False, False],\n",
       "       [False,  True, False],\n",
       "       [False,  True, False]])"
      ]
     },
     "execution_count": 18,
     "metadata": {},
     "output_type": "execute_result"
    }
   ],
   "source": [
    "print(\"Elementos mayores que 3:\")\n",
    "print(n)\n",
    "n > 3"
   ]
  },
  {
   "cell_type": "code",
   "execution_count": 19,
   "metadata": {},
   "outputs": [
    {
     "data": {
      "text/plain": [
       "array([4, 4, 4, 4])"
      ]
     },
     "execution_count": 19,
     "metadata": {},
     "output_type": "execute_result"
    }
   ],
   "source": [
    "n[n > 3]"
   ]
  },
  {
   "cell_type": "code",
   "execution_count": 24,
   "metadata": {},
   "outputs": [
    {
     "data": {
      "text/plain": [
       "array([[[1, 3],\n",
       "        [2, 2],\n",
       "        [2, 3]],\n",
       "\n",
       "       [[3, 3],\n",
       "        [1, 1],\n",
       "        [2, 2]],\n",
       "\n",
       "       [[1, 2],\n",
       "        [1, 3],\n",
       "        [2, 3]],\n",
       "\n",
       "       [[2, 4],\n",
       "        [4, 3],\n",
       "        [3, 3]],\n",
       "\n",
       "       [[2, 1],\n",
       "        [2, 1],\n",
       "        [2, 2]]])"
      ]
     },
     "execution_count": 24,
     "metadata": {},
     "output_type": "execute_result"
    }
   ],
   "source": [
    "n"
   ]
  },
  {
   "cell_type": "code",
   "execution_count": 26,
   "metadata": {},
   "outputs": [
    {
     "data": {
      "text/plain": [
       "array([[2, 2],\n",
       "       [1, 1],\n",
       "       [1, 3],\n",
       "       [4, 3],\n",
       "       [2, 1]])"
      ]
     },
     "execution_count": 26,
     "metadata": {},
     "output_type": "execute_result"
    }
   ],
   "source": [
    "n[:, 1, :]  # Segunda columna"
   ]
  },
  {
   "cell_type": "code",
   "execution_count": null,
   "metadata": {},
   "outputs": [],
   "source": []
  },
  {
   "cell_type": "markdown",
   "metadata": {},
   "source": [
    "## Pandas\n",
    "\n",
    "- Manejo de datos en forma tablas llamadas DataFrame.\n",
    "- El DataFrame y la Series son los tipos de datos nativos de esta librería.\n",
    "- Misma lógica de operar que en Numpy.\n",
    "- Soporta métodos SQL-like para pontenciar las transformaciones de data."
   ]
  },
  {
   "cell_type": "code",
   "execution_count": 27,
   "metadata": {},
   "outputs": [
    {
     "data": {
      "text/html": [
       "<div>\n",
       "<style scoped>\n",
       "    .dataframe tbody tr th:only-of-type {\n",
       "        vertical-align: middle;\n",
       "    }\n",
       "\n",
       "    .dataframe tbody tr th {\n",
       "        vertical-align: top;\n",
       "    }\n",
       "\n",
       "    .dataframe thead th {\n",
       "        text-align: right;\n",
       "    }\n",
       "</style>\n",
       "<table border=\"1\" class=\"dataframe\">\n",
       "  <thead>\n",
       "    <tr style=\"text-align: right;\">\n",
       "      <th></th>\n",
       "      <th>Nombre</th>\n",
       "      <th>Edad</th>\n",
       "      <th>Ciudad</th>\n",
       "      <th>Ingreso</th>\n",
       "    </tr>\n",
       "  </thead>\n",
       "  <tbody>\n",
       "    <tr>\n",
       "      <th>0</th>\n",
       "      <td>Ana</td>\n",
       "      <td>23</td>\n",
       "      <td>San José</td>\n",
       "      <td>2500.0</td>\n",
       "    </tr>\n",
       "    <tr>\n",
       "      <th>1</th>\n",
       "      <td>Luis</td>\n",
       "      <td>35</td>\n",
       "      <td>Cartago</td>\n",
       "      <td>4000.0</td>\n",
       "    </tr>\n",
       "    <tr>\n",
       "      <th>2</th>\n",
       "      <td>Carlos</td>\n",
       "      <td>45</td>\n",
       "      <td>Heredia</td>\n",
       "      <td>3200.0</td>\n",
       "    </tr>\n",
       "    <tr>\n",
       "      <th>3</th>\n",
       "      <td>Sofía</td>\n",
       "      <td>29</td>\n",
       "      <td>Alajuela</td>\n",
       "      <td>3700.0</td>\n",
       "    </tr>\n",
       "    <tr>\n",
       "      <th>4</th>\n",
       "      <td>María</td>\n",
       "      <td>31</td>\n",
       "      <td>San José</td>\n",
       "      <td>NaN</td>\n",
       "    </tr>\n",
       "    <tr>\n",
       "      <th>5</th>\n",
       "      <td>Pedro</td>\n",
       "      <td>28</td>\n",
       "      <td>Cartago</td>\n",
       "      <td>4100.0</td>\n",
       "    </tr>\n",
       "    <tr>\n",
       "      <th>6</th>\n",
       "      <td>Lucía</td>\n",
       "      <td>26</td>\n",
       "      <td>Heredia</td>\n",
       "      <td>2800.0</td>\n",
       "    </tr>\n",
       "    <tr>\n",
       "      <th>7</th>\n",
       "      <td>Javier</td>\n",
       "      <td>42</td>\n",
       "      <td>Alajuela</td>\n",
       "      <td>NaN</td>\n",
       "    </tr>\n",
       "  </tbody>\n",
       "</table>\n",
       "</div>"
      ],
      "text/plain": [
       "   Nombre  Edad    Ciudad  Ingreso\n",
       "0     Ana    23  San José   2500.0\n",
       "1    Luis    35   Cartago   4000.0\n",
       "2  Carlos    45   Heredia   3200.0\n",
       "3   Sofía    29  Alajuela   3700.0\n",
       "4   María    31  San José      NaN\n",
       "5   Pedro    28   Cartago   4100.0\n",
       "6   Lucía    26   Heredia   2800.0\n",
       "7  Javier    42  Alajuela      NaN"
      ]
     },
     "execution_count": 27,
     "metadata": {},
     "output_type": "execute_result"
    }
   ],
   "source": [
    "import pandas as pd\n",
    "\n",
    "# Crear un DataFrame desde un diccionario\n",
    "datos = {\n",
    "    \"Nombre\": [\"Ana\", \"Luis\", \"Carlos\", \"Sofía\", \"María\", \"Pedro\", \"Lucía\", \"Javier\"],\n",
    "    \"Edad\": [23, 35, 45, 29, 31, 28, 26, 42],\n",
    "    \"Ciudad\": [\"San José\", \"Cartago\", \"Heredia\", \"Alajuela\", \"San José\", \"Cartago\", \"Heredia\", \"Alajuela\"],\n",
    "    \"Ingreso\": [2500, 4000, 3200, 3700, np.nan, 4100, 2800, np.nan]\n",
    "}\n",
    "\n",
    "df = pd.DataFrame(datos)\n",
    "df"
   ]
  },
  {
   "cell_type": "code",
   "execution_count": 28,
   "metadata": {},
   "outputs": [
    {
     "name": "stdout",
     "output_type": "stream",
     "text": [
      "(8, 4)\n",
      "Index(['Nombre', 'Edad', 'Ciudad', 'Ingreso'], dtype='object')\n",
      "Nombre      object\n",
      "Edad         int64\n",
      "Ciudad      object\n",
      "Ingreso    float64\n",
      "dtype: object\n"
     ]
    },
    {
     "data": {
      "text/html": [
       "<div>\n",
       "<style scoped>\n",
       "    .dataframe tbody tr th:only-of-type {\n",
       "        vertical-align: middle;\n",
       "    }\n",
       "\n",
       "    .dataframe tbody tr th {\n",
       "        vertical-align: top;\n",
       "    }\n",
       "\n",
       "    .dataframe thead th {\n",
       "        text-align: right;\n",
       "    }\n",
       "</style>\n",
       "<table border=\"1\" class=\"dataframe\">\n",
       "  <thead>\n",
       "    <tr style=\"text-align: right;\">\n",
       "      <th></th>\n",
       "      <th>Edad</th>\n",
       "      <th>Ingreso</th>\n",
       "    </tr>\n",
       "  </thead>\n",
       "  <tbody>\n",
       "    <tr>\n",
       "      <th>count</th>\n",
       "      <td>8.000000</td>\n",
       "      <td>6.000000</td>\n",
       "    </tr>\n",
       "    <tr>\n",
       "      <th>mean</th>\n",
       "      <td>32.375000</td>\n",
       "      <td>3383.333333</td>\n",
       "    </tr>\n",
       "    <tr>\n",
       "      <th>std</th>\n",
       "      <td>7.744814</td>\n",
       "      <td>655.489639</td>\n",
       "    </tr>\n",
       "    <tr>\n",
       "      <th>min</th>\n",
       "      <td>23.000000</td>\n",
       "      <td>2500.000000</td>\n",
       "    </tr>\n",
       "    <tr>\n",
       "      <th>25%</th>\n",
       "      <td>27.500000</td>\n",
       "      <td>2900.000000</td>\n",
       "    </tr>\n",
       "    <tr>\n",
       "      <th>50%</th>\n",
       "      <td>30.000000</td>\n",
       "      <td>3450.000000</td>\n",
       "    </tr>\n",
       "    <tr>\n",
       "      <th>75%</th>\n",
       "      <td>36.750000</td>\n",
       "      <td>3925.000000</td>\n",
       "    </tr>\n",
       "    <tr>\n",
       "      <th>max</th>\n",
       "      <td>45.000000</td>\n",
       "      <td>4100.000000</td>\n",
       "    </tr>\n",
       "  </tbody>\n",
       "</table>\n",
       "</div>"
      ],
      "text/plain": [
       "            Edad      Ingreso\n",
       "count   8.000000     6.000000\n",
       "mean   32.375000  3383.333333\n",
       "std     7.744814   655.489639\n",
       "min    23.000000  2500.000000\n",
       "25%    27.500000  2900.000000\n",
       "50%    30.000000  3450.000000\n",
       "75%    36.750000  3925.000000\n",
       "max    45.000000  4100.000000"
      ]
     },
     "execution_count": 28,
     "metadata": {},
     "output_type": "execute_result"
    }
   ],
   "source": [
    "print(df.shape)             # (filas, columnas)\n",
    "print(df.columns)       # Nombres de columnas\n",
    "print(df.dtypes)            # Tipos de datos\n",
    "df.describe()        # Estadísticas numéricas   "
   ]
  },
  {
   "cell_type": "code",
   "execution_count": 31,
   "metadata": {},
   "outputs": [
    {
     "data": {
      "text/html": [
       "<div>\n",
       "<style scoped>\n",
       "    .dataframe tbody tr th:only-of-type {\n",
       "        vertical-align: middle;\n",
       "    }\n",
       "\n",
       "    .dataframe tbody tr th {\n",
       "        vertical-align: top;\n",
       "    }\n",
       "\n",
       "    .dataframe thead th {\n",
       "        text-align: right;\n",
       "    }\n",
       "</style>\n",
       "<table border=\"1\" class=\"dataframe\">\n",
       "  <thead>\n",
       "    <tr style=\"text-align: right;\">\n",
       "      <th></th>\n",
       "      <th>Nombre</th>\n",
       "      <th>Edad</th>\n",
       "    </tr>\n",
       "  </thead>\n",
       "  <tbody>\n",
       "    <tr>\n",
       "      <th>0</th>\n",
       "      <td>Ana</td>\n",
       "      <td>23</td>\n",
       "    </tr>\n",
       "    <tr>\n",
       "      <th>1</th>\n",
       "      <td>Luis</td>\n",
       "      <td>35</td>\n",
       "    </tr>\n",
       "    <tr>\n",
       "      <th>2</th>\n",
       "      <td>Carlos</td>\n",
       "      <td>45</td>\n",
       "    </tr>\n",
       "    <tr>\n",
       "      <th>3</th>\n",
       "      <td>Sofía</td>\n",
       "      <td>29</td>\n",
       "    </tr>\n",
       "    <tr>\n",
       "      <th>4</th>\n",
       "      <td>María</td>\n",
       "      <td>31</td>\n",
       "    </tr>\n",
       "    <tr>\n",
       "      <th>5</th>\n",
       "      <td>Pedro</td>\n",
       "      <td>28</td>\n",
       "    </tr>\n",
       "    <tr>\n",
       "      <th>6</th>\n",
       "      <td>Lucía</td>\n",
       "      <td>26</td>\n",
       "    </tr>\n",
       "    <tr>\n",
       "      <th>7</th>\n",
       "      <td>Javier</td>\n",
       "      <td>42</td>\n",
       "    </tr>\n",
       "  </tbody>\n",
       "</table>\n",
       "</div>"
      ],
      "text/plain": [
       "   Nombre  Edad\n",
       "0     Ana    23\n",
       "1    Luis    35\n",
       "2  Carlos    45\n",
       "3   Sofía    29\n",
       "4   María    31\n",
       "5   Pedro    28\n",
       "6   Lucía    26\n",
       "7  Javier    42"
      ]
     },
     "execution_count": 31,
     "metadata": {},
     "output_type": "execute_result"
    }
   ],
   "source": [
    "# df[\"Nombre\"]          # Serie\n",
    "df[[\"Nombre\", \"Edad\"]] # Subconjunto de columnas"
   ]
  },
  {
   "cell_type": "code",
   "execution_count": 32,
   "metadata": {},
   "outputs": [
    {
     "data": {
      "text/html": [
       "<div>\n",
       "<style scoped>\n",
       "    .dataframe tbody tr th:only-of-type {\n",
       "        vertical-align: middle;\n",
       "    }\n",
       "\n",
       "    .dataframe tbody tr th {\n",
       "        vertical-align: top;\n",
       "    }\n",
       "\n",
       "    .dataframe thead th {\n",
       "        text-align: right;\n",
       "    }\n",
       "</style>\n",
       "<table border=\"1\" class=\"dataframe\">\n",
       "  <thead>\n",
       "    <tr style=\"text-align: right;\">\n",
       "      <th></th>\n",
       "      <th>Nombre</th>\n",
       "      <th>Edad</th>\n",
       "      <th>Ciudad</th>\n",
       "      <th>Ingreso</th>\n",
       "    </tr>\n",
       "  </thead>\n",
       "  <tbody>\n",
       "    <tr>\n",
       "      <th>1</th>\n",
       "      <td>Luis</td>\n",
       "      <td>35</td>\n",
       "      <td>Cartago</td>\n",
       "      <td>4000.0</td>\n",
       "    </tr>\n",
       "    <tr>\n",
       "      <th>2</th>\n",
       "      <td>Carlos</td>\n",
       "      <td>45</td>\n",
       "      <td>Heredia</td>\n",
       "      <td>3200.0</td>\n",
       "    </tr>\n",
       "  </tbody>\n",
       "</table>\n",
       "</div>"
      ],
      "text/plain": [
       "   Nombre  Edad   Ciudad  Ingreso\n",
       "1    Luis    35  Cartago   4000.0\n",
       "2  Carlos    45  Heredia   3200.0"
      ]
     },
     "execution_count": 32,
     "metadata": {},
     "output_type": "execute_result"
    }
   ],
   "source": [
    "df.loc[0]              # Primera fila (por etiqueta)\n",
    "# df.iloc[2]             # Tercera fila (por posición)\n",
    "df.iloc[1:3]           # Filas 1 y 2"
   ]
  },
  {
   "cell_type": "code",
   "execution_count": 33,
   "metadata": {},
   "outputs": [
    {
     "data": {
      "text/plain": [
       "0    False\n",
       "1     True\n",
       "2     True\n",
       "3    False\n",
       "4     True\n",
       "5    False\n",
       "6    False\n",
       "7     True\n",
       "Name: Edad, dtype: bool"
      ]
     },
     "execution_count": 33,
     "metadata": {},
     "output_type": "execute_result"
    }
   ],
   "source": [
    "df[\"Edad\"] > 30"
   ]
  },
  {
   "cell_type": "code",
   "execution_count": 37,
   "metadata": {},
   "outputs": [
    {
     "data": {
      "text/plain": [
       "array(['Luis', 'Carlos', 'María', 'Javier'], dtype=object)"
      ]
     },
     "execution_count": 37,
     "metadata": {},
     "output_type": "execute_result"
    }
   ],
   "source": [
    "df[df[\"Edad\"] > 30]  # Personas mayores de 30\n",
    "df[df[\"Edad\"] > 30][\"Nombre\"].to_numpy()  # Personas mayores de 30"
   ]
  },
  {
   "cell_type": "code",
   "execution_count": 38,
   "metadata": {},
   "outputs": [
    {
     "data": {
      "text/html": [
       "<div>\n",
       "<style scoped>\n",
       "    .dataframe tbody tr th:only-of-type {\n",
       "        vertical-align: middle;\n",
       "    }\n",
       "\n",
       "    .dataframe tbody tr th {\n",
       "        vertical-align: top;\n",
       "    }\n",
       "\n",
       "    .dataframe thead th {\n",
       "        text-align: right;\n",
       "    }\n",
       "</style>\n",
       "<table border=\"1\" class=\"dataframe\">\n",
       "  <thead>\n",
       "    <tr style=\"text-align: right;\">\n",
       "      <th></th>\n",
       "      <th>Nombre</th>\n",
       "      <th>Edad</th>\n",
       "      <th>Ciudad</th>\n",
       "      <th>Ingreso</th>\n",
       "      <th>Edad * 2</th>\n",
       "    </tr>\n",
       "  </thead>\n",
       "  <tbody>\n",
       "    <tr>\n",
       "      <th>0</th>\n",
       "      <td>Ana</td>\n",
       "      <td>23</td>\n",
       "      <td>San José</td>\n",
       "      <td>2500.0</td>\n",
       "      <td>46</td>\n",
       "    </tr>\n",
       "    <tr>\n",
       "      <th>1</th>\n",
       "      <td>Luis</td>\n",
       "      <td>35</td>\n",
       "      <td>Cartago</td>\n",
       "      <td>4000.0</td>\n",
       "      <td>70</td>\n",
       "    </tr>\n",
       "    <tr>\n",
       "      <th>2</th>\n",
       "      <td>Carlos</td>\n",
       "      <td>45</td>\n",
       "      <td>Heredia</td>\n",
       "      <td>3200.0</td>\n",
       "      <td>90</td>\n",
       "    </tr>\n",
       "    <tr>\n",
       "      <th>3</th>\n",
       "      <td>Sofía</td>\n",
       "      <td>29</td>\n",
       "      <td>Alajuela</td>\n",
       "      <td>3700.0</td>\n",
       "      <td>58</td>\n",
       "    </tr>\n",
       "    <tr>\n",
       "      <th>4</th>\n",
       "      <td>María</td>\n",
       "      <td>31</td>\n",
       "      <td>San José</td>\n",
       "      <td>NaN</td>\n",
       "      <td>62</td>\n",
       "    </tr>\n",
       "    <tr>\n",
       "      <th>5</th>\n",
       "      <td>Pedro</td>\n",
       "      <td>28</td>\n",
       "      <td>Cartago</td>\n",
       "      <td>4100.0</td>\n",
       "      <td>56</td>\n",
       "    </tr>\n",
       "    <tr>\n",
       "      <th>6</th>\n",
       "      <td>Lucía</td>\n",
       "      <td>26</td>\n",
       "      <td>Heredia</td>\n",
       "      <td>2800.0</td>\n",
       "      <td>52</td>\n",
       "    </tr>\n",
       "    <tr>\n",
       "      <th>7</th>\n",
       "      <td>Javier</td>\n",
       "      <td>42</td>\n",
       "      <td>Alajuela</td>\n",
       "      <td>NaN</td>\n",
       "      <td>84</td>\n",
       "    </tr>\n",
       "  </tbody>\n",
       "</table>\n",
       "</div>"
      ],
      "text/plain": [
       "   Nombre  Edad    Ciudad  Ingreso  Edad * 2\n",
       "0     Ana    23  San José   2500.0        46\n",
       "1    Luis    35   Cartago   4000.0        70\n",
       "2  Carlos    45   Heredia   3200.0        90\n",
       "3   Sofía    29  Alajuela   3700.0        58\n",
       "4   María    31  San José      NaN        62\n",
       "5   Pedro    28   Cartago   4100.0        56\n",
       "6   Lucía    26   Heredia   2800.0        52\n",
       "7  Javier    42  Alajuela      NaN        84"
      ]
     },
     "execution_count": 38,
     "metadata": {},
     "output_type": "execute_result"
    }
   ],
   "source": [
    "df[\"Edad * 2\"] = df[\"Edad\"] * 2\n",
    "df"
   ]
  },
  {
   "cell_type": "code",
   "execution_count": null,
   "metadata": {},
   "outputs": [],
   "source": [
    "# Limpieza de datos\n",
    "\n",
    "df.isnull().sum()                 # Cuántos nulos por columna"
   ]
  },
  {
   "cell_type": "code",
   "execution_count": 39,
   "metadata": {},
   "outputs": [
    {
     "data": {
      "text/html": [
       "<div>\n",
       "<style scoped>\n",
       "    .dataframe tbody tr th:only-of-type {\n",
       "        vertical-align: middle;\n",
       "    }\n",
       "\n",
       "    .dataframe tbody tr th {\n",
       "        vertical-align: top;\n",
       "    }\n",
       "\n",
       "    .dataframe thead th {\n",
       "        text-align: right;\n",
       "    }\n",
       "</style>\n",
       "<table border=\"1\" class=\"dataframe\">\n",
       "  <thead>\n",
       "    <tr style=\"text-align: right;\">\n",
       "      <th></th>\n",
       "      <th>Nombre</th>\n",
       "      <th>Edad</th>\n",
       "      <th>Ciudad</th>\n",
       "      <th>Ingreso</th>\n",
       "      <th>Edad * 2</th>\n",
       "    </tr>\n",
       "  </thead>\n",
       "  <tbody>\n",
       "    <tr>\n",
       "      <th>0</th>\n",
       "      <td>Ana</td>\n",
       "      <td>23</td>\n",
       "      <td>San José</td>\n",
       "      <td>2500.0</td>\n",
       "      <td>46</td>\n",
       "    </tr>\n",
       "    <tr>\n",
       "      <th>1</th>\n",
       "      <td>Luis</td>\n",
       "      <td>35</td>\n",
       "      <td>Cartago</td>\n",
       "      <td>4000.0</td>\n",
       "      <td>70</td>\n",
       "    </tr>\n",
       "    <tr>\n",
       "      <th>2</th>\n",
       "      <td>Carlos</td>\n",
       "      <td>45</td>\n",
       "      <td>Heredia</td>\n",
       "      <td>3200.0</td>\n",
       "      <td>90</td>\n",
       "    </tr>\n",
       "    <tr>\n",
       "      <th>3</th>\n",
       "      <td>Sofía</td>\n",
       "      <td>29</td>\n",
       "      <td>Alajuela</td>\n",
       "      <td>3700.0</td>\n",
       "      <td>58</td>\n",
       "    </tr>\n",
       "    <tr>\n",
       "      <th>5</th>\n",
       "      <td>Pedro</td>\n",
       "      <td>28</td>\n",
       "      <td>Cartago</td>\n",
       "      <td>4100.0</td>\n",
       "      <td>56</td>\n",
       "    </tr>\n",
       "    <tr>\n",
       "      <th>6</th>\n",
       "      <td>Lucía</td>\n",
       "      <td>26</td>\n",
       "      <td>Heredia</td>\n",
       "      <td>2800.0</td>\n",
       "      <td>52</td>\n",
       "    </tr>\n",
       "  </tbody>\n",
       "</table>\n",
       "</div>"
      ],
      "text/plain": [
       "   Nombre  Edad    Ciudad  Ingreso  Edad * 2\n",
       "0     Ana    23  San José   2500.0        46\n",
       "1    Luis    35   Cartago   4000.0        70\n",
       "2  Carlos    45   Heredia   3200.0        90\n",
       "3   Sofía    29  Alajuela   3700.0        58\n",
       "5   Pedro    28   Cartago   4100.0        56\n",
       "6   Lucía    26   Heredia   2800.0        52"
      ]
     },
     "execution_count": 39,
     "metadata": {},
     "output_type": "execute_result"
    }
   ],
   "source": [
    "df.dropna()                       # Eliminar filas con nulos"
   ]
  },
  {
   "cell_type": "code",
   "execution_count": 41,
   "metadata": {},
   "outputs": [
    {
     "data": {
      "text/html": [
       "<div>\n",
       "<style scoped>\n",
       "    .dataframe tbody tr th:only-of-type {\n",
       "        vertical-align: middle;\n",
       "    }\n",
       "\n",
       "    .dataframe tbody tr th {\n",
       "        vertical-align: top;\n",
       "    }\n",
       "\n",
       "    .dataframe thead th {\n",
       "        text-align: right;\n",
       "    }\n",
       "</style>\n",
       "<table border=\"1\" class=\"dataframe\">\n",
       "  <thead>\n",
       "    <tr style=\"text-align: right;\">\n",
       "      <th></th>\n",
       "      <th>Nombre</th>\n",
       "      <th>Edad</th>\n",
       "      <th>Ciudad</th>\n",
       "      <th>Ingreso</th>\n",
       "      <th>Edad * 2</th>\n",
       "    </tr>\n",
       "  </thead>\n",
       "  <tbody>\n",
       "    <tr>\n",
       "      <th>0</th>\n",
       "      <td>Ana</td>\n",
       "      <td>23</td>\n",
       "      <td>San José</td>\n",
       "      <td>2500.0</td>\n",
       "      <td>46</td>\n",
       "    </tr>\n",
       "    <tr>\n",
       "      <th>1</th>\n",
       "      <td>Luis</td>\n",
       "      <td>35</td>\n",
       "      <td>Cartago</td>\n",
       "      <td>4000.0</td>\n",
       "      <td>70</td>\n",
       "    </tr>\n",
       "    <tr>\n",
       "      <th>2</th>\n",
       "      <td>Carlos</td>\n",
       "      <td>45</td>\n",
       "      <td>Heredia</td>\n",
       "      <td>3200.0</td>\n",
       "      <td>90</td>\n",
       "    </tr>\n",
       "    <tr>\n",
       "      <th>3</th>\n",
       "      <td>Sofía</td>\n",
       "      <td>29</td>\n",
       "      <td>Alajuela</td>\n",
       "      <td>3700.0</td>\n",
       "      <td>58</td>\n",
       "    </tr>\n",
       "    <tr>\n",
       "      <th>4</th>\n",
       "      <td>María</td>\n",
       "      <td>31</td>\n",
       "      <td>San José</td>\n",
       "      <td>Not a Number</td>\n",
       "      <td>62</td>\n",
       "    </tr>\n",
       "    <tr>\n",
       "      <th>5</th>\n",
       "      <td>Pedro</td>\n",
       "      <td>28</td>\n",
       "      <td>Cartago</td>\n",
       "      <td>4100.0</td>\n",
       "      <td>56</td>\n",
       "    </tr>\n",
       "    <tr>\n",
       "      <th>6</th>\n",
       "      <td>Lucía</td>\n",
       "      <td>26</td>\n",
       "      <td>Heredia</td>\n",
       "      <td>2800.0</td>\n",
       "      <td>52</td>\n",
       "    </tr>\n",
       "    <tr>\n",
       "      <th>7</th>\n",
       "      <td>Javier</td>\n",
       "      <td>42</td>\n",
       "      <td>Alajuela</td>\n",
       "      <td>Not a Number</td>\n",
       "      <td>84</td>\n",
       "    </tr>\n",
       "  </tbody>\n",
       "</table>\n",
       "</div>"
      ],
      "text/plain": [
       "   Nombre  Edad    Ciudad       Ingreso  Edad * 2\n",
       "0     Ana    23  San José        2500.0        46\n",
       "1    Luis    35   Cartago        4000.0        70\n",
       "2  Carlos    45   Heredia        3200.0        90\n",
       "3   Sofía    29  Alajuela        3700.0        58\n",
       "4   María    31  San José  Not a Number        62\n",
       "5   Pedro    28   Cartago        4100.0        56\n",
       "6   Lucía    26   Heredia        2800.0        52\n",
       "7  Javier    42  Alajuela  Not a Number        84"
      ]
     },
     "execution_count": 41,
     "metadata": {},
     "output_type": "execute_result"
    }
   ],
   "source": [
    "df.fillna(\"Not a Number\")                      # Rellenar nulos con 0"
   ]
  },
  {
   "cell_type": "code",
   "execution_count": null,
   "metadata": {},
   "outputs": [],
   "source": [
    "df"
   ]
  },
  {
   "cell_type": "code",
   "execution_count": null,
   "metadata": {},
   "outputs": [],
   "source": [
    "df = df.fillna(0) "
   ]
  },
  {
   "cell_type": "code",
   "execution_count": null,
   "metadata": {},
   "outputs": [],
   "source": [
    "df[\"Ingreso\"].mean()            # Promedio\n",
    "df[\"Edad\"].min(), df[\"Edad\"].max()\n",
    "df[\"Ciudad\"].value_counts()     # Frecuencia por categoría"
   ]
  },
  {
   "cell_type": "code",
   "execution_count": null,
   "metadata": {},
   "outputs": [],
   "source": [
    "# Agrupar y resumir\n",
    "df.groupby(\"Ciudad\")[\"Ingreso\"].mean()"
   ]
  },
  {
   "cell_type": "code",
   "execution_count": null,
   "metadata": {},
   "outputs": [],
   "source": [
    "import matplotlib.pyplot as plt\n",
    "\n",
    "# Histograma de edades\n",
    "df[\"Edad\"].hist(bins=5)\n",
    "plt.title(\"Distribución de Edades\")\n",
    "plt.xlabel(\"Edad\")\n",
    "plt.ylabel(\"Frecuencia\")\n",
    "plt.show()\n",
    "\n",
    "# Gráfico de barras por ciudad\n",
    "df.groupby(\"Ciudad\")[\"Ingreso\"].mean().plot(kind=\"bar\")\n",
    "plt.title(\"Ingreso Promedio por Ciudad\")\n",
    "plt.ylabel(\"Ingreso\")\n",
    "plt.xticks(rotation=45)\n",
    "plt.show()"
   ]
  },
  {
   "cell_type": "code",
   "execution_count": null,
   "metadata": {},
   "outputs": [],
   "source": [
    "df.to_csv(\"datos.csv\", index=False)  # Guardar a CSV"
   ]
  },
  {
   "cell_type": "code",
   "execution_count": null,
   "metadata": {},
   "outputs": [],
   "source": [
    "df = pd.read_csv(\"datos.csv\")  # Cargar desde CSV\n",
    "df"
   ]
  }
 ],
 "metadata": {
  "kernelspec": {
   "display_name": ".venv",
   "language": "python",
   "name": "python3"
  },
  "language_info": {
   "codemirror_mode": {
    "name": "ipython",
    "version": 3
   },
   "file_extension": ".py",
   "mimetype": "text/x-python",
   "name": "python",
   "nbconvert_exporter": "python",
   "pygments_lexer": "ipython3",
   "version": "3.12.7"
  }
 },
 "nbformat": 4,
 "nbformat_minor": 2
}
