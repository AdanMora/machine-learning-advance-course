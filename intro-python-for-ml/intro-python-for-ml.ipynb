{
 "cells": [
  {
   "cell_type": "markdown",
   "metadata": {},
   "source": [
    "# Introduccion Python"
   ]
  },
  {
   "cell_type": "code",
   "execution_count": 13,
   "metadata": {},
   "outputs": [
    {
     "name": "stdout",
     "output_type": "stream",
     "text": [
      "10 <class 'str'>\n",
      "3.14 <class 'float'>\n",
      "[22, 30, 25, 40]\n",
      "30\n",
      "[22, 30, 25, 40, 35]\n",
      "5\n",
      "Ana\n",
      "{'nombre': 'Ana', 'edad': 29, 'activo': True}\n",
      "10.0\n"
     ]
    },
    {
     "ename": "TypeError",
     "evalue": "'tuple' object does not support item assignment",
     "output_type": "error",
     "traceback": [
      "\u001b[31m---------------------------------------------------------------------------\u001b[39m",
      "\u001b[31mTypeError\u001b[39m                                 Traceback (most recent call last)",
      "\u001b[36mCell\u001b[39m\u001b[36m \u001b[39m\u001b[32mIn[13]\u001b[39m\u001b[32m, line 50\u001b[39m\n\u001b[32m     47\u001b[39m coordenadas = (\u001b[32m10.0\u001b[39m, \u001b[32m20.5\u001b[39m)\n\u001b[32m     48\u001b[39m \u001b[38;5;28mprint\u001b[39m(coordenadas[\u001b[32m0\u001b[39m])       \u001b[38;5;66;03m# Acceso: 10.0\u001b[39;00m\n\u001b[32m---> \u001b[39m\u001b[32m50\u001b[39m \u001b[43mcoordenadas\u001b[49m\u001b[43m[\u001b[49m\u001b[32;43m0\u001b[39;49m\u001b[43m]\u001b[49m = \u001b[32m12.0\u001b[39m  \u001b[38;5;66;03m# Error: TypeError, las tuplas son inmutables\u001b[39;00m\n\u001b[32m     51\u001b[39m \u001b[38;5;66;03m# Inmutables: no puedes hacer coordenadas[0] = 12.0\u001b[39;00m\n\u001b[32m     52\u001b[39m \n\u001b[32m     53\u001b[39m \u001b[38;5;66;03m# Sets \u001b[39;00m\n\u001b[32m     55\u001b[39m valores = {\u001b[32m1\u001b[39m, \u001b[32m2\u001b[39m, \u001b[32m3\u001b[39m, \u001b[32m2\u001b[39m, \u001b[32m3\u001b[39m}\n",
      "\u001b[31mTypeError\u001b[39m: 'tuple' object does not support item assignment"
     ]
    }
   ],
   "source": [
    "# Tipos numéricos\n",
    "entero = \"10\"                 # int\n",
    "decimal = 3.14              # float\n",
    "\n",
    "# Texto\n",
    "texto = \"Machine Learning\"  # str\n",
    "\n",
    "# Booleano\n",
    "es_mayor = True             # bool\n",
    "es_mayor = False             # bool\n",
    "\n",
    "# Ver tipo de dato\n",
    "print(entero, type(entero))   # <class 'int'>\n",
    "print(decimal, type(decimal))  # <class 'float'>\n",
    "\n",
    "# Listas\n",
    "\n",
    "edades = [22, 30, 25, 40]\n",
    "# edades = [22, \"30\", 25, 40]\n",
    "print(edades)            # Salida: [22, '30', 25, 40]\n",
    "print(edades[1])         # Acceso: 30\n",
    "edades.append(35)        # Agregar\n",
    "print(edades)            # Salida: [22, 30, 25, 40, 35]\n",
    "print(len(edades))  \n",
    "\n",
    "# Diccionarios Mapas Hash maps\n",
    "\n",
    "# { \"key\": value}\n",
    "\n",
    "# JSON\n",
    "\n",
    "persona = {\"nombre\": \"Ana\", \"edad\": 28, \"activo\": True}\n",
    "persona_2 = {\n",
    "    \"nombre\": \"Ana\",\n",
    "    \"direcciones\": [\n",
    "        {\"ciudad\": \"Madrid\", \"pais\": \"España\"},\n",
    "        {\"ciudad\": \"Barcelona\", \"pais\": \"España\"}\n",
    "    ]\n",
    "}\n",
    "\n",
    "print(persona[\"nombre\"])     # Acceso: Ana\n",
    "persona[\"edad\"] = 29         # Modificación\n",
    "print(persona)\n",
    "\n",
    "# Tuplas\n",
    "\n",
    "coordenadas = (10.0, 20.5)\n",
    "print(coordenadas[0])       # Acceso: 10.0\n",
    "\n",
    "coordenadas[0] = 12.0  # Error: TypeError, las tuplas son inmutables\n",
    "# Inmutables: no puedes hacer coordenadas[0] = 12.0\n",
    "\n",
    "# Sets \n",
    "\n",
    "valores = {1, 2, 3, 2, 3}\n",
    "print(valores)              # Salida: {1, 2, 3} (sin duplicados)\n",
    "valores.add(5)"
   ]
  },
  {
   "cell_type": "code",
   "execution_count": 10,
   "metadata": {},
   "outputs": [
    {
     "data": {
      "text/plain": [
       "[{'ciudad': 'Madrid', 'pais': 'España'},\n",
       " {'ciudad': 'Barcelona', 'pais': 'España'}]"
      ]
     },
     "execution_count": 10,
     "metadata": {},
     "output_type": "execute_result"
    }
   ],
   "source": [
    "persona_2[\"direcciones\"]"
   ]
  },
  {
   "cell_type": "code",
   "execution_count": 15,
   "metadata": {},
   "outputs": [
    {
     "data": {
      "text/plain": [
       "[0, 1, 2, 3, 4]"
      ]
     },
     "execution_count": 15,
     "metadata": {},
     "output_type": "execute_result"
    }
   ],
   "source": [
    "list(range(5))"
   ]
  },
  {
   "cell_type": "code",
   "execution_count": 17,
   "metadata": {},
   "outputs": [
    {
     "name": "stdout",
     "output_type": "stream",
     "text": [
      "<class 'list'>\n",
      "[0, 1, 4, 9, 16]\n",
      "[0, 2, 4, 6, 8]\n",
      "['ingreso', 'ingreso_extra']\n"
     ]
    }
   ],
   "source": [
    "# Cuadrado de números del 0 al 4\n",
    "cuadrados = [x**2 for x in range(5)]\n",
    "print(type(cuadrados))  # <class 'list'>\n",
    "print(cuadrados)  # [0, 1, 4, 9, 16]\n",
    "\n",
    "pares = [x for x in range(10) if x % 2 == 0]\n",
    "print(pares)  # [0, 2, 4, 6, 8]\n",
    "\n",
    "columnas = [\"edad\", \"ingreso\", \"etiqueta\", \"ingreso_extra\"]\n",
    "# Obtener solo columnas numéricas\n",
    "num_cols = [col for col in columnas if \"ingreso\" in col]\n",
    "print(num_cols)  # ['ingreso', 'ingreso_extra']"
   ]
  },
  {
   "cell_type": "code",
   "execution_count": 18,
   "metadata": {},
   "outputs": [
    {
     "name": "stdout",
     "output_type": "stream",
     "text": [
      "Mayores de edad: ['Luis', 'Carla']\n"
     ]
    }
   ],
   "source": [
    "# Crear una lista de personas\n",
    "personas = [\n",
    "    {\"nombre\": \"Ana\", \"edad\": 17},\n",
    "    {\"nombre\": \"Luis\", \"edad\": 25},\n",
    "    {\"nombre\": \"Carla\", \"edad\": 19}\n",
    "]\n",
    "\n",
    "# Obtener los nombres de los mayores de edad\n",
    "mayores = [p[\"nombre\"] for p in personas if p[\"edad\"] >= 18]\n",
    "print(\"Mayores de edad:\", mayores)\n"
   ]
  },
  {
   "cell_type": "markdown",
   "metadata": {},
   "source": [
    "# Introducción a Numpy y Pandas \n",
    "\n",
    "## Numpy: \n",
    "- Manejo de arreglos o matrices multidimensionales o Tensores.\n",
    "- El Tensor es el tipo de dato nativo de esta librería.\n",
    "- Perfecto manejo de operaciones de álgebra lineal.\n",
    "- Trabaja muy eficientemente haciendo cálculos sin necesidad de for loops.\n",
    "-  Muy bueno indexando y agrupando data para generar nueva data enriquecida."
   ]
  },
  {
   "cell_type": "code",
   "execution_count": 19,
   "metadata": {},
   "outputs": [],
   "source": [
    "import numpy as np"
   ]
  },
  {
   "cell_type": "code",
   "execution_count": 21,
   "metadata": {},
   "outputs": [
    {
     "data": {
      "text/plain": [
       "(4,)"
      ]
     },
     "execution_count": 21,
     "metadata": {},
     "output_type": "execute_result"
    }
   ],
   "source": [
    "# Crear un array\n",
    "a = np.array([1, 2, 3, 4])\n",
    "a.shape"
   ]
  },
  {
   "cell_type": "code",
   "execution_count": null,
   "metadata": {},
   "outputs": [],
   "source": [
    "# Crear un array\n",
    "a = np.array([1, 2, 3, 4])\n",
    "\n",
    "# Operaciones vectorizadas\n",
    "print(\"Suma:\", a + 2)\n",
    "print(\"Multiplicación:\", a * 3)\n",
    "\n",
    "# Propiedades\n",
    "print(\"Forma:\", a.shape)\n",
    "print(\"Tipo:\", a.dtype)"
   ]
  },
  {
   "cell_type": "code",
   "execution_count": null,
   "metadata": {},
   "outputs": [],
   "source": [
    "np.zeros((3, 3))"
   ]
  },
  {
   "cell_type": "code",
   "execution_count": null,
   "metadata": {},
   "outputs": [],
   "source": [
    "np.ones((2, 2))"
   ]
  },
  {
   "cell_type": "code",
   "execution_count": null,
   "metadata": {},
   "outputs": [],
   "source": [
    "np.eye(3)"
   ]
  },
  {
   "cell_type": "code",
   "execution_count": null,
   "metadata": {},
   "outputs": [],
   "source": [
    "np.linspace(0, 10, 5)\n"
   ]
  },
  {
   "cell_type": "code",
   "execution_count": null,
   "metadata": {},
   "outputs": [],
   "source": [
    "n = np.random.randint(1, 5, (5, 3))\n",
    "n"
   ]
  },
  {
   "cell_type": "code",
   "execution_count": null,
   "metadata": {},
   "outputs": [],
   "source": [
    "n.mean(axis=1)"
   ]
  },
  {
   "cell_type": "code",
   "execution_count": null,
   "metadata": {},
   "outputs": [],
   "source": [
    "n.sum(axis=2)"
   ]
  },
  {
   "cell_type": "code",
   "execution_count": null,
   "metadata": {},
   "outputs": [],
   "source": [
    "print(\"Elementos mayores que 3:\")\n",
    "print(n)\n",
    "n > 3"
   ]
  },
  {
   "cell_type": "code",
   "execution_count": null,
   "metadata": {},
   "outputs": [],
   "source": [
    "n[n > 3]"
   ]
  },
  {
   "cell_type": "code",
   "execution_count": null,
   "metadata": {},
   "outputs": [],
   "source": [
    "n[:, 0]  # Segunda columna"
   ]
  },
  {
   "cell_type": "code",
   "execution_count": null,
   "metadata": {},
   "outputs": [],
   "source": []
  },
  {
   "cell_type": "markdown",
   "metadata": {},
   "source": [
    "## Pandas\n",
    "\n",
    "- Manejo de datos en forma tablas llamadas DataFrame.\n",
    "- El DataFrame y la Series son los tipos de datos nativos de esta librería.\n",
    "- Misma lógica de operar que en Numpy.\n",
    "- Soporta métodos SQL-like para pontenciar las transformaciones de data."
   ]
  },
  {
   "cell_type": "code",
   "execution_count": null,
   "metadata": {},
   "outputs": [],
   "source": [
    "import pandas as pd\n",
    "\n",
    "# Crear un DataFrame desde un diccionario\n",
    "datos = {\n",
    "    \"Nombre\": [\"Ana\", \"Luis\", \"Carlos\", \"Sofía\", \"María\", \"Pedro\", \"Lucía\", \"Javier\"],\n",
    "    \"Edad\": [23, 35, 45, 29, 31, 28, 26, 42],\n",
    "    \"Ciudad\": [\"San José\", \"Cartago\", \"Heredia\", \"Alajuela\", \"San José\", \"Cartago\", \"Heredia\", \"Alajuela\"],\n",
    "    \"Ingreso\": [2500, 4000, 3200, 3700, np.nan, 4100, 2800, np.nan]\n",
    "}\n",
    "\n",
    "df = pd.DataFrame(datos)\n",
    "df"
   ]
  },
  {
   "cell_type": "code",
   "execution_count": null,
   "metadata": {},
   "outputs": [],
   "source": [
    "print(df.shape)             # (filas, columnas)\n",
    "print(df.columns)       # Nombres de columnas\n",
    "print(df.dtypes)            # Tipos de datos\n",
    "df.describe()        # Estadísticas numéricas   "
   ]
  },
  {
   "cell_type": "code",
   "execution_count": null,
   "metadata": {},
   "outputs": [],
   "source": [
    "df[\"Nombre\"]          # Serie\n",
    "df[[\"Nombre\", \"Edad\"]] # Subconjunto de columnas"
   ]
  },
  {
   "cell_type": "code",
   "execution_count": null,
   "metadata": {},
   "outputs": [],
   "source": [
    "df.loc[0]              # Primera fila (por etiqueta)\n",
    "# df.iloc[2]             # Tercera fila (por posición)\n",
    "df.iloc[1:3]           # Filas 1 y 2"
   ]
  },
  {
   "cell_type": "code",
   "execution_count": null,
   "metadata": {},
   "outputs": [],
   "source": [
    "df[df[\"Edad\"] > 30]  # Personas mayores de 30"
   ]
  },
  {
   "cell_type": "code",
   "execution_count": null,
   "metadata": {},
   "outputs": [],
   "source": [
    "df[\"Edad * 2\"] = df[\"Edad\"] * 2\n",
    "df"
   ]
  },
  {
   "cell_type": "code",
   "execution_count": null,
   "metadata": {},
   "outputs": [],
   "source": [
    "# Limpieza de datos\n",
    "\n",
    "df.isnull().sum()                 # Cuántos nulos por columna"
   ]
  },
  {
   "cell_type": "code",
   "execution_count": null,
   "metadata": {},
   "outputs": [],
   "source": [
    "df.dropna()                       # Eliminar filas con nulos"
   ]
  },
  {
   "cell_type": "code",
   "execution_count": null,
   "metadata": {},
   "outputs": [],
   "source": [
    "df.fillna(0)                      # Rellenar nulos con 0"
   ]
  },
  {
   "cell_type": "code",
   "execution_count": null,
   "metadata": {},
   "outputs": [],
   "source": [
    "df"
   ]
  },
  {
   "cell_type": "code",
   "execution_count": null,
   "metadata": {},
   "outputs": [],
   "source": [
    "df = df.fillna(0) "
   ]
  },
  {
   "cell_type": "code",
   "execution_count": null,
   "metadata": {},
   "outputs": [],
   "source": [
    "df[\"Ingreso\"].mean()            # Promedio\n",
    "df[\"Edad\"].min(), df[\"Edad\"].max()\n",
    "df[\"Ciudad\"].value_counts()     # Frecuencia por categoría"
   ]
  },
  {
   "cell_type": "code",
   "execution_count": null,
   "metadata": {},
   "outputs": [],
   "source": [
    "# Agrupar y resumir\n",
    "df.groupby(\"Ciudad\")[\"Ingreso\"].mean()"
   ]
  },
  {
   "cell_type": "code",
   "execution_count": null,
   "metadata": {},
   "outputs": [],
   "source": [
    "import matplotlib.pyplot as plt\n",
    "\n",
    "# Histograma de edades\n",
    "df[\"Edad\"].hist(bins=5)\n",
    "plt.title(\"Distribución de Edades\")\n",
    "plt.xlabel(\"Edad\")\n",
    "plt.ylabel(\"Frecuencia\")\n",
    "plt.show()\n",
    "\n",
    "# Gráfico de barras por ciudad\n",
    "df.groupby(\"Ciudad\")[\"Ingreso\"].mean().plot(kind=\"bar\")\n",
    "plt.title(\"Ingreso Promedio por Ciudad\")\n",
    "plt.ylabel(\"Ingreso\")\n",
    "plt.xticks(rotation=45)\n",
    "plt.show()"
   ]
  },
  {
   "cell_type": "code",
   "execution_count": null,
   "metadata": {},
   "outputs": [],
   "source": [
    "df.to_csv(\"datos.csv\", index=False)  # Guardar a CSV"
   ]
  },
  {
   "cell_type": "code",
   "execution_count": null,
   "metadata": {},
   "outputs": [],
   "source": [
    "df = pd.read_csv(\"datos.csv\")  # Cargar desde CSV\n",
    "df"
   ]
  },
  {
   "cell_type": "code",
   "execution_count": null,
   "metadata": {},
   "outputs": [],
   "source": []
  }
 ],
 "metadata": {
  "kernelspec": {
   "display_name": ".venv",
   "language": "python",
   "name": "python3"
  },
  "language_info": {
   "codemirror_mode": {
    "name": "ipython",
    "version": 3
   },
   "file_extension": ".py",
   "mimetype": "text/x-python",
   "name": "python",
   "nbconvert_exporter": "python",
   "pygments_lexer": "ipython3",
   "version": "3.12.7"
  }
 },
 "nbformat": 4,
 "nbformat_minor": 2
}
